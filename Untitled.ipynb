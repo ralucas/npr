{
 "cells": [
  {
   "cell_type": "code",
   "execution_count": 4,
   "metadata": {},
   "outputs": [],
   "source": [
    "import numpy as np\n",
    "import cv2\n",
    "import matplotlib.pyplot as plt"
   ]
  },
  {
   "cell_type": "code",
   "execution_count": 5,
   "metadata": {},
   "outputs": [],
   "source": [
    "z = np.zeros((10,10))"
   ]
  },
  {
   "cell_type": "code",
   "execution_count": 6,
   "metadata": {},
   "outputs": [],
   "source": [
    "z[5,:] = 255."
   ]
  },
  {
   "cell_type": "code",
   "execution_count": 8,
   "metadata": {},
   "outputs": [
    {
     "data": {
      "text/plain": [
       "<matplotlib.image.AxesImage at 0x109a4cd10>"
      ]
     },
     "execution_count": 8,
     "metadata": {},
     "output_type": "execute_result"
    },
    {
     "data": {
      "image/png": "[encoded data removed]",
      "text/plain": [
       "<matplotlib.figure.Figure at 0x109a87bd0>"
      ]
     },
     "metadata": {
      "needs_background": "light"
     },
     "output_type": "display_data"
    }
   ],
   "source": [
    "plt.imshow(z)"
   ]
  },
  {
   "cell_type": "code",
   "execution_count": 21,
   "metadata": {},
   "outputs": [
    {
     "name": "stdout",
     "output_type": "stream",
     "text": [
      "[[ 0.05448868]\n",
      " [ 0.24420134]\n",
      " [ 0.40261995]\n",
      " [ 0.24420134]\n",
      " [ 0.05448868]]\n"
     ]
    }
   ],
   "source": [
    "kernel = cv2.getGaussianKernel(5, 1, cv2.CV_64F)\n",
    "print kernel"
   ]
  },
  {
   "cell_type": "code",
   "execution_count": 28,
   "metadata": {},
   "outputs": [
    {
     "name": "stdout",
     "output_type": "stream",
     "text": [
      "[[   0.            0.            0.            0.            0.            0.\n",
      "     0.            0.            0.            0.        ]\n",
      " [   0.            0.            0.            0.            0.            0.\n",
      "     0.            0.            0.            0.        ]\n",
      " [   0.            0.            0.            0.            0.            0.\n",
      "     0.            0.            0.            0.        ]\n",
      " [   0.            0.            0.            0.            0.            0.\n",
      "     0.            0.            0.            0.        ]\n",
      " [  13.8946134    13.8946134    13.8946134    13.8946134    13.8946134\n",
      "    13.8946134    13.8946134    13.8946134    13.8946134    13.8946134 ]\n",
      " [  62.2713417    62.2713417    62.2713417    62.2713417    62.2713417\n",
      "    62.2713417    62.2713417    62.2713417    62.2713417    62.2713417 ]\n",
      " [ 102.66808725  102.66808725  102.66808725  102.66808725  102.66808725\n",
      "   102.66808725  102.66808725  102.66808725  102.66808725  102.66808725]\n",
      " [   0.            0.            0.            0.            0.            0.\n",
      "     0.            0.            0.            0.        ]\n",
      " [   0.            0.            0.            0.            0.            0.\n",
      "     0.            0.            0.            0.        ]\n",
      " [   0.            0.            0.            0.            0.            0.\n",
      "     0.            0.            0.            0.        ]]\n"
     ]
    }
   ],
   "source": [
    "d = cv2.filter2D(z, -1, np.array([[ 0.40261995],[ 0.24420134],[ 0.05448868]]))\n",
    "print d"
   ]
  },
  {
   "cell_type": "code",
   "execution_count": 29,
   "metadata": {},
   "outputs": [
    {
     "data": {
      "text/plain": [
       "<matplotlib.image.AxesImage at 0x10a084f50>"
      ]
     },
     "execution_count": 29,
     "metadata": {},
     "output_type": "execute_result"
    },
    {
     "data": {
      "image/png": "[encoded data removed]",
      "text/plain": [
       "<matplotlib.figure.Figure at 0x109fe2f90>"
      ]
     },
     "metadata": {
      "needs_background": "light"
     },
     "output_type": "display_data"
    }
   ],
   "source": [
    "plt.imshow(d)"
   ]
  },
  {
   "cell_type": "code",
   "execution_count": 31,
   "metadata": {},
   "outputs": [
    {
     "data": {
      "text/plain": [
       "array([[   0.        ,    0.        ,    0.        ,    0.        ,\n",
       "           0.        ,    0.        ,    0.        ,    0.        ,\n",
       "           0.        ,    0.        ],\n",
       "       [   0.        ,    0.        ,    0.        ,    0.        ,\n",
       "           0.        ,    0.        ,    0.        ,    0.        ,\n",
       "           0.        ,    0.        ],\n",
       "       [   0.        ,    0.        ,    0.        ,    0.        ,\n",
       "           0.        ,    0.        ,    0.        ,    0.        ,\n",
       "           0.        ,    0.        ],\n",
       "       [   0.        ,    0.        ,    0.        ,    0.        ,\n",
       "           0.        ,    0.        ,    0.        ,    0.        ,\n",
       "           0.        ,    0.        ],\n",
       "       [  13.8946134 ,   13.8946134 ,   13.8946134 ,   13.8946134 ,\n",
       "          13.8946134 ,   13.8946134 ,   13.8946134 ,   13.8946134 ,\n",
       "          13.8946134 ,   13.8946134 ],\n",
       "       [  62.2713417 ,   62.2713417 ,   62.2713417 ,   62.2713417 ,\n",
       "          62.2713417 ,   62.2713417 ,   62.2713417 ,   62.2713417 ,\n",
       "          62.2713417 ,   62.2713417 ],\n",
       "       [ 102.66808725,  102.66808725,  102.66808725,  102.66808725,\n",
       "         102.66808725,  102.66808725,  102.66808725,  102.66808725,\n",
       "         102.66808725,  102.66808725],\n",
       "       [   0.        ,    0.        ,    0.        ,    0.        ,\n",
       "           0.        ,    0.        ,    0.        ,    0.        ,\n",
       "           0.        ,    0.        ],\n",
       "       [   0.        ,    0.        ,    0.        ,    0.        ,\n",
       "           0.        ,    0.        ,    0.        ,    0.        ,\n",
       "           0.        ,    0.        ],\n",
       "       [   0.        ,    0.        ,    0.        ,    0.        ,\n",
       "           0.        ,    0.        ,    0.        ,    0.        ,\n",
       "           0.        ,    0.        ]])"
      ]
     },
     "execution_count": 31,
     "metadata": {},
     "output_type": "execute_result"
    }
   ],
   "source": [
    "d"
   ]
  },
  {
   "cell_type": "code",
   "execution_count": 34,
   "metadata": {},
   "outputs": [
    {
     "data": {
      "text/plain": [
       "array([[  0.       ],\n",
       "       [ 13.8946134]])"
      ]
     },
     "execution_count": 34,
     "metadata": {},
     "output_type": "execute_result"
    }
   ],
   "source": [
    "d[3:5, 3:4]"
   ]
  },
  {
   "cell_type": "code",
   "execution_count": null,
   "metadata": {},
   "outputs": [],
   "source": []
  }
 ],
 "metadata": {
  "kernelspec": {
   "display_name": "Python 2",
   "language": "python",
   "name": "python2"
  },
  "language_info": {
   "codemirror_mode": {
    "name": "ipython",
    "version": 2
   },
   "file_extension": ".py",
   "mimetype": "text/x-python",
   "name": "python",
   "nbconvert_exporter": "python",
   "pygments_lexer": "ipython2",
   "version": "2.7.15"
  }
 },
 "nbformat": 4,
 "nbformat_minor": 2
}
